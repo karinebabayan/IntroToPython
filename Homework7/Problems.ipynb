{
 "cells": [
  {
   "cell_type": "code",
   "execution_count": 2,
   "metadata": {},
   "outputs": [
    {
     "name": "stdout",
     "output_type": "stream",
     "text": [
      "No such module\n"
     ]
    }
   ],
   "source": [
    "#p1\n",
    "try:\n",
    "    import Productcheck\n",
    "\n",
    "    def buy(product, num, price):\n",
    "        pr=int(num)*int(price)\n",
    "        if Productcheck.check(product,num):\n",
    "            print('You bought %s and spent %d'%(product, pr))\n",
    "        else:\n",
    "            print('Sorry! We are out of this product.')\n",
    "\n",
    "    def main():\n",
    "        product = input(\"Choose a product: \")\n",
    "        num = input(\"Quantity: \")\n",
    "        price = input(\"Price: \")\n",
    "        buy(product, num, price)\n",
    "\n",
    "    if __name__ == '__main__':\n",
    "        main()\n",
    "    \n",
    "except ModuleNotFoundError:\n",
    "    print('No such module')"
   ]
  },
  {
   "cell_type": "code",
   "execution_count": 3,
   "metadata": {},
   "outputs": [
    {
     "ename": "AssertionError",
     "evalue": "Can't divide",
     "output_type": "error",
     "traceback": [
      "\u001b[1;31m---------------------------------------------------------------------------\u001b[0m",
      "\u001b[1;31mAssertionError\u001b[0m                            Traceback (most recent call last)",
      "\u001b[1;32m<ipython-input-3-62e1bc30b119>\u001b[0m in \u001b[0;36m<module>\u001b[1;34m\u001b[0m\n\u001b[0;32m      3\u001b[0m     \u001b[1;32massert\u001b[0m \u001b[0my\u001b[0m\u001b[1;33m!=\u001b[0m\u001b[1;36m0\u001b[0m\u001b[1;33m,\u001b[0m \u001b[1;34m'Can\\'t divide'\u001b[0m\u001b[1;33m\u001b[0m\u001b[1;33m\u001b[0m\u001b[0m\n\u001b[0;32m      4\u001b[0m     \u001b[1;32mreturn\u001b[0m \u001b[0mx\u001b[0m\u001b[1;33m/\u001b[0m\u001b[0my\u001b[0m\u001b[1;33m\u001b[0m\u001b[1;33m\u001b[0m\u001b[0m\n\u001b[1;32m----> 5\u001b[1;33m \u001b[0mdiv\u001b[0m\u001b[1;33m(\u001b[0m\u001b[1;36m540\u001b[0m\u001b[1;33m,\u001b[0m\u001b[1;36m0\u001b[0m\u001b[1;33m)\u001b[0m\u001b[1;33m\u001b[0m\u001b[1;33m\u001b[0m\u001b[0m\n\u001b[0m",
      "\u001b[1;32m<ipython-input-3-62e1bc30b119>\u001b[0m in \u001b[0;36mdiv\u001b[1;34m(x, y)\u001b[0m\n\u001b[0;32m      1\u001b[0m \u001b[1;31m#p2\u001b[0m\u001b[1;33m\u001b[0m\u001b[1;33m\u001b[0m\u001b[1;33m\u001b[0m\u001b[0m\n\u001b[0;32m      2\u001b[0m \u001b[1;32mdef\u001b[0m \u001b[0mdiv\u001b[0m\u001b[1;33m(\u001b[0m\u001b[0mx\u001b[0m\u001b[1;33m,\u001b[0m \u001b[0my\u001b[0m\u001b[1;33m)\u001b[0m\u001b[1;33m:\u001b[0m\u001b[1;33m\u001b[0m\u001b[1;33m\u001b[0m\u001b[0m\n\u001b[1;32m----> 3\u001b[1;33m     \u001b[1;32massert\u001b[0m \u001b[0my\u001b[0m\u001b[1;33m!=\u001b[0m\u001b[1;36m0\u001b[0m\u001b[1;33m,\u001b[0m \u001b[1;34m'Can\\'t divide'\u001b[0m\u001b[1;33m\u001b[0m\u001b[1;33m\u001b[0m\u001b[0m\n\u001b[0m\u001b[0;32m      4\u001b[0m     \u001b[1;32mreturn\u001b[0m \u001b[0mx\u001b[0m\u001b[1;33m/\u001b[0m\u001b[0my\u001b[0m\u001b[1;33m\u001b[0m\u001b[1;33m\u001b[0m\u001b[0m\n\u001b[0;32m      5\u001b[0m \u001b[0mdiv\u001b[0m\u001b[1;33m(\u001b[0m\u001b[1;36m540\u001b[0m\u001b[1;33m,\u001b[0m\u001b[1;36m0\u001b[0m\u001b[1;33m)\u001b[0m\u001b[1;33m\u001b[0m\u001b[1;33m\u001b[0m\u001b[0m\n",
      "\u001b[1;31mAssertionError\u001b[0m: Can't divide"
     ]
    }
   ],
   "source": [
    "#p2\n",
    "def div(x, y):\n",
    "    assert y!=0, 'Can\\'t divide'\n",
    "    return x/y\n",
    "div(540,0)"
   ]
  },
  {
   "cell_type": "code",
   "execution_count": 4,
   "metadata": {},
   "outputs": [],
   "source": [
    "#p3\n",
    "\n",
    "def example_func(my_list:list):\n",
    "    try:\n",
    "        my_sum = 0\n",
    "        sum_of_pairs = []\n",
    "        \n",
    "        for i in range(len(my_list)):\n",
    "            sum_of_pairs.append(my_list[i] + my_list[i+1])\n",
    "        \n",
    "       # print(\"SumOfPairs = \", sum_of_pairs)\n",
    "    \n",
    "    except IndexError:\n",
    "        print('Index out of range')\n",
    "\n",
    "    finally:\n",
    "        print(\"SumOfPairs = \", sum_of_pairs)"
   ]
  },
  {
   "cell_type": "code",
   "execution_count": null,
   "metadata": {},
   "outputs": [],
   "source": [
    "l1 = [12,54,87,96,74]\n",
    "l2 = [1,2,3]\n",
    "l3=[]\n",
    "example_func(l2)"
   ]
  },
  {
   "cell_type": "code",
   "execution_count": 7,
   "metadata": {},
   "outputs": [],
   "source": [
    "#p4\n",
    "\n",
    "def UpperContent(fileName):\n",
    "    try: \n",
    "        myfile = open(fileName, 'r')\n",
    "        for line in myfile:\n",
    "            print(line.upper())\n",
    "        myfile.close()\n",
    "    except FileNotFoundError:\n",
    "        print('No such file or directory')\n",
    "    except Exception as e:\n",
    "        print(e)"
   ]
  },
  {
   "cell_type": "code",
   "execution_count": 8,
   "metadata": {
    "scrolled": true
   },
   "outputs": [
    {
     "name": "stdout",
     "output_type": "stream",
     "text": [
      "1\n",
      "\n",
      "COMPANIES THAT FIRST FACED THE OUTBREAK \n",
      "\n",
      "IN CHINA ARE USING THEIR EARLY EXPERIENCES \n",
      "\n",
      "TO FORM A BLUEPRINT FOR THE FUTURE OF GLOBAL BUSINESS.\n"
     ]
    }
   ],
   "source": [
    "UpperContent('article.txt')"
   ]
  },
  {
   "cell_type": "code",
   "execution_count": 9,
   "metadata": {},
   "outputs": [],
   "source": [
    "import numpy as np"
   ]
  },
  {
   "cell_type": "code",
   "execution_count": 10,
   "metadata": {},
   "outputs": [
    {
     "data": {
      "text/plain": [
       "array([[ 8,  9,  2,  4,  4],\n",
       "       [10,  4,  9,  6,  9],\n",
       "       [ 9, 10,  9,  4,  4]])"
      ]
     },
     "execution_count": 10,
     "metadata": {},
     "output_type": "execute_result"
    }
   ],
   "source": [
    "#p5 \n",
    "\n",
    "a = np.random.randint(1,11,(3,5))\n",
    "a"
   ]
  },
  {
   "cell_type": "code",
   "execution_count": 11,
   "metadata": {},
   "outputs": [
    {
     "name": "stdout",
     "output_type": "stream",
     "text": [
      "[0. 0. 0. 0. 0. 3. 0. 0. 0. 0.]\n"
     ]
    }
   ],
   "source": [
    "#p6\n",
    "\n",
    "a = np.zeros(10)\n",
    "a[5]= 3\n",
    "print(a)"
   ]
  },
  {
   "cell_type": "code",
   "execution_count": 12,
   "metadata": {},
   "outputs": [
    {
     "data": {
      "text/plain": [
       "array([ 3,  4,  5,  6,  7,  8,  9, 10, 11, 12, 13, 14])"
      ]
     },
     "execution_count": 12,
     "metadata": {},
     "output_type": "execute_result"
    }
   ],
   "source": [
    "#p7\n",
    "\n",
    "a = np.arange(3,15)\n",
    "a"
   ]
  },
  {
   "cell_type": "code",
   "execution_count": 13,
   "metadata": {},
   "outputs": [
    {
     "name": "stdout",
     "output_type": "stream",
     "text": [
      "[[1 3]\n",
      " [5 2]\n",
      " [4 5]]\n",
      "[[1 3 5]\n",
      " [2 4 5]]\n"
     ]
    },
    {
     "data": {
      "text/plain": [
       "array([1, 3, 5, 2, 4, 5])"
      ]
     },
     "execution_count": 13,
     "metadata": {},
     "output_type": "execute_result"
    }
   ],
   "source": [
    "#p8\n",
    "\n",
    "a = np.array([1, 3, 5, 2, 4, 5])\n",
    "print(a.reshape(3,2))\n",
    "print(a.reshape(2,3))\n",
    "a"
   ]
  },
  {
   "cell_type": "code",
   "execution_count": 14,
   "metadata": {},
   "outputs": [],
   "source": [
    "#p9\n",
    "\n",
    "def func_1(a):\n",
    "    while np.mean(a)>5:\n",
    "        a = np.divide(a,2)\n",
    "    else:\n",
    "        print(a)\n"
   ]
  },
  {
   "cell_type": "code",
   "execution_count": 15,
   "metadata": {},
   "outputs": [
    {
     "name": "stdout",
     "output_type": "stream",
     "text": [
      "[2.5 0.5 3.  6.  2. ]\n"
     ]
    }
   ],
   "source": [
    "m= np.array([10,2,12,24,8])\n",
    "func_1(m)"
   ]
  },
  {
   "cell_type": "code",
   "execution_count": 16,
   "metadata": {},
   "outputs": [],
   "source": [
    "#p10\n",
    "def func_2(b):\n",
    "    print(b,'\\n')\n",
    "    for x in range(b.shape[1]):\n",
    "        print(b[...,x])\n"
   ]
  },
  {
   "cell_type": "code",
   "execution_count": 17,
   "metadata": {},
   "outputs": [
    {
     "name": "stdout",
     "output_type": "stream",
     "text": [
      "[[ 5  4  4  7]\n",
      " [10  1  3  6]\n",
      " [ 4  5  5 10]\n",
      " [ 6  4  3  4]\n",
      " [ 6  4  4  4]] \n",
      "\n",
      "[ 5 10  4  6  6]\n",
      "[4 1 5 4 4]\n",
      "[4 3 5 3 4]\n",
      "[ 7  6 10  4  4]\n"
     ]
    }
   ],
   "source": [
    "n = np.random.randint(1,11,(5,4))\n",
    "func_2(n)"
   ]
  },
  {
   "cell_type": "code",
   "execution_count": 18,
   "metadata": {},
   "outputs": [],
   "source": [
    "def func_3(b):\n",
    "    print(b,'\\n')\n",
    "    for x in range(b.shape[0]):\n",
    "        print(b[x,...])\n"
   ]
  },
  {
   "cell_type": "code",
   "execution_count": 19,
   "metadata": {},
   "outputs": [
    {
     "name": "stdout",
     "output_type": "stream",
     "text": [
      "[[ 9  6  3  7]\n",
      " [ 5  3  5  4]\n",
      " [ 6  4  3  9]\n",
      " [ 4  1 10  9]\n",
      " [10  4  3  7]] \n",
      "\n",
      "[9 6 3 7]\n",
      "[5 3 5 4]\n",
      "[6 4 3 9]\n",
      "[ 4  1 10  9]\n",
      "[10  4  3  7]\n"
     ]
    }
   ],
   "source": [
    "n = np.random.randint(1,11,(5,4))\n",
    "func_3(n)"
   ]
  }
 ],
 "metadata": {
  "kernelspec": {
   "display_name": "Python 3",
   "language": "python",
   "name": "python3"
  },
  "language_info": {
   "codemirror_mode": {
    "name": "ipython",
    "version": 3
   },
   "file_extension": ".py",
   "mimetype": "text/x-python",
   "name": "python",
   "nbconvert_exporter": "python",
   "pygments_lexer": "ipython3",
   "version": "3.7.4"
  }
 },
 "nbformat": 4,
 "nbformat_minor": 2
}
