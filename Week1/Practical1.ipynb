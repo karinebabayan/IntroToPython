{
 "cells": [
  {
   "cell_type": "markdown",
   "metadata": {},
   "source": [
    "# Problem 2"
   ]
  },
  {
   "cell_type": "code",
   "execution_count": 6,
   "metadata": {},
   "outputs": [
    {
     "name": "stdout",
     "output_type": "stream",
     "text": [
      "variable_name:Intro to Python\n",
      "variable_name:Karine_Babayan\n",
      "variable_name:Fish\n",
      "variable_name: 11\n",
      "variable_name: True\n"
     ]
    }
   ],
   "source": [
    "course = \"Intro to Python\"\n",
    "student = \"Karine_Babayan\"\n",
    "nickname = \"Fish\"\n",
    "grade = 11\n",
    "python_expert = True\n",
    "print (\"variable_name:\" + course)\n",
    "print (\"variable_name:\" + student)\n",
    "print (\"variable_name:\" + nickname)\n",
    "print (\"variable_name:\", grade)\n",
    "print (\"variable_name:\" ,python_expert)"
   ]
  },
  {
   "cell_type": "markdown",
   "metadata": {},
   "source": [
    "Problem 4"
   ]
  },
  {
   "cell_type": "code",
   "execution_count": 27,
   "metadata": {},
   "outputs": [
    {
     "name": "stdout",
     "output_type": "stream",
     "text": [
      "The hypotenuse of the triangle ABC =  5\n"
     ]
    }
   ],
   "source": [
    "AB = 3\n",
    "AC = 4\n",
    "BC = (AB**2 + AC**2)**0.5\n",
    "BC = int (BC)\n",
    "print (\"The hypotenuse of the triangle ABC = \", BC)"
   ]
  },
  {
   "cell_type": "code",
   "execution_count": null,
   "metadata": {},
   "outputs": [],
   "source": []
  }
 ],
 "metadata": {
  "kernelspec": {
   "display_name": "Python 3",
   "language": "python",
   "name": "python3"
  },
  "language_info": {
   "codemirror_mode": {
    "name": "ipython",
    "version": 3
   },
   "file_extension": ".py",
   "mimetype": "text/x-python",
   "name": "python",
   "nbconvert_exporter": "python",
   "pygments_lexer": "ipython3",
   "version": "3.7.4"
  }
 },
 "nbformat": 4,
 "nbformat_minor": 2
}
