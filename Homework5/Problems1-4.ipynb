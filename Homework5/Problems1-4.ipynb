{
 "cells": [
  {
   "cell_type": "code",
   "execution_count": null,
   "metadata": {},
   "outputs": [],
   "source": [
    "#problem1\n",
    "\n",
    "def my_max(*args):\n",
    "    if len(args)>0:\n",
    "        args = sorted(args)\n",
    "        return args[-1]\n",
    "        \n",
    "    else:\n",
    "        print ('no numbers given')"
   ]
  },
  {
   "cell_type": "code",
   "execution_count": null,
   "metadata": {},
   "outputs": [],
   "source": [
    "my_max(12,45,696,74,1)"
   ]
  },
  {
   "cell_type": "code",
   "execution_count": null,
   "metadata": {},
   "outputs": [],
   "source": [
    "my_max()"
   ]
  },
  {
   "cell_type": "code",
   "execution_count": null,
   "metadata": {},
   "outputs": [],
   "source": [
    "#problem2 \n",
    "def list_func(list1:list):\n",
    "    list2=list(set(list1))\n",
    "    return list2"
   ]
  },
  {
   "cell_type": "code",
   "execution_count": null,
   "metadata": {
    "scrolled": true
   },
   "outputs": [],
   "source": [
    "l1=[1,2,5,6,1,4,854,1,23,6,8,4,6,3,14]\n",
    "print(list_func(l1))"
   ]
  },
  {
   "cell_type": "code",
   "execution_count": null,
   "metadata": {},
   "outputs": [],
   "source": [
    "#problem3\n",
    "#without recursion\n",
    "\n",
    "def my_fib(n):\n",
    "    a=0\n",
    "    b=1\n",
    "    while(n-2):\n",
    "        c=a+b\n",
    "        a=b\n",
    "        b=c\n",
    "        n=n-1\n",
    "    \n",
    "    return c"
   ]
  },
  {
   "cell_type": "code",
   "execution_count": null,
   "metadata": {},
   "outputs": [],
   "source": [
    "print(my_fib(15))"
   ]
  },
  {
   "cell_type": "code",
   "execution_count": null,
   "metadata": {},
   "outputs": [],
   "source": [
    "#problem3\n",
    "#using recursion\n",
    "\n",
    "def my_fib(n):\n",
    "    if n==1:\n",
    "        return(0)\n",
    "    elif n==2:\n",
    "        return(1)\n",
    "    else:\n",
    "        return my_fib(n-1) + my_fib(n-2)\n"
   ]
  },
  {
   "cell_type": "code",
   "execution_count": null,
   "metadata": {},
   "outputs": [],
   "source": [
    "my_fib(15)"
   ]
  },
  {
   "cell_type": "code",
   "execution_count": null,
   "metadata": {},
   "outputs": [],
   "source": [
    "#problem4\n",
    "\n",
    "def my_func(n):\n",
    "    if n<10:\n",
    "        return n+10\n",
    "    else:\n",
    "        return n-10"
   ]
  },
  {
   "cell_type": "code",
   "execution_count": null,
   "metadata": {},
   "outputs": [],
   "source": [
    "l5=[1,2,5,6,1,4,854,1,23,6,8,4,6,3,14]\n",
    "new_l5=map(my_func, l5)\n",
    "print(list(new_l5))"
   ]
  },
  {
   "cell_type": "code",
   "execution_count": null,
   "metadata": {},
   "outputs": [],
   "source": [
    "run Customer.py"
   ]
  }
 ],
 "metadata": {
  "kernelspec": {
   "display_name": "Python 3",
   "language": "python",
   "name": "python3"
  },
  "language_info": {
   "codemirror_mode": {
    "name": "ipython",
    "version": 3
   },
   "file_extension": ".py",
   "mimetype": "text/x-python",
   "name": "python",
   "nbconvert_exporter": "python",
   "pygments_lexer": "ipython3",
   "version": "3.7.4"
  }
 },
 "nbformat": 4,
 "nbformat_minor": 2
}
