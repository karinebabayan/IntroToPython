{
 "cells": [
  {
   "cell_type": "code",
   "execution_count": 16,
   "metadata": {},
   "outputs": [],
   "source": [
    "#problem1\n",
    "\n",
    "class circle:\n",
    "    def __init__(self, radius, color):\n",
    "        self.radius = radius\n",
    "        self.color = color\n",
    "        \n",
    "    def getDesc(self):\n",
    "        print(\"A %s circle with radius %s.\"%( self.color, self.radius))"
   ]
  },
  {
   "cell_type": "code",
   "execution_count": 17,
   "metadata": {},
   "outputs": [
    {
     "name": "stdout",
     "output_type": "stream",
     "text": [
      "A red circle with radius 13.\n"
     ]
    }
   ],
   "source": [
    "ccl1= circle(13,'red')\n",
    "circle.getDesc(ccl1)"
   ]
  },
  {
   "cell_type": "code",
   "execution_count": 18,
   "metadata": {},
   "outputs": [],
   "source": [
    "#problem2\n",
    "\n",
    "class g_string:\n",
    "    def __init__(self, my_str):\n",
    "        self.my_str = my_str\n",
    "    \n",
    "    def get_String(self):\n",
    "        return self.my_str\n",
    "        \n",
    "    def print_String(self):\n",
    "        print(self.my_str.upper())\n",
    "\n",
    "    "
   ]
  },
  {
   "cell_type": "code",
   "execution_count": 26,
   "metadata": {},
   "outputs": [
    {
     "name": "stdout",
     "output_type": "stream",
     "text": [
      "HELLO\n",
      "Hello\n"
     ]
    }
   ],
   "source": [
    "l1 = g_string('Hello')\n",
    "print(g_string.get_String(l1))\n",
    "g_string.print_String(l1) #harc terminalum ashkhatacnelu het kapvats"
   ]
  },
  {
   "cell_type": "code",
   "execution_count": 35,
   "metadata": {},
   "outputs": [],
   "source": [
    "#problem3\n",
    "\n",
    "class Employee:\n",
    "    def __init__(self, name, last_name, monthly_salary):\n",
    "        self.name = name\n",
    "        self.last_name = last_name\n",
    "        self.__monthly_salary = monthly_salary\n",
    "    \n",
    "    def getFullName(self):\n",
    "        return (self.name, self.last_name)\n",
    "    def annualSalary(self):\n",
    "        ann_s = self.__monthly_salary*12\n",
    "        if ann_s>0:\n",
    "            return 'High'\n",
    "        else:\n",
    "            return 'Low'"
   ]
  },
  {
   "cell_type": "code",
   "execution_count": 37,
   "metadata": {},
   "outputs": [
    {
     "name": "stdout",
     "output_type": "stream",
     "text": [
      "('Poghos', 'Poghosyan')\n",
      "High\n"
     ]
    }
   ],
   "source": [
    "emp1 = Employee('Poghos','Poghosyan',3000)\n",
    "print(Employee.getFullName(emp1))\n",
    "print(Employee.annualSalary(emp1))"
   ]
  },
  {
   "cell_type": "code",
   "execution_count": 151,
   "metadata": {},
   "outputs": [],
   "source": [
    "#problem4\n",
    "\n",
    "class Car:\n",
    "    def __init__(self, model, color, max_speed):\n",
    "        self.model = model\n",
    "        self.color = color\n",
    "        self.max_speed = max_speed\n",
    "    \n",
    "    def compareCar(self,car2):\n",
    "        if self.max_speed > car2.max_speed:\n",
    "            print(\"car1 is better than car2\")\n",
    "        else:\n",
    "            print(\"car2 is better than car1\") \n",
    "        \n",
    "\n"
   ]
  },
  {
   "cell_type": "code",
   "execution_count": 150,
   "metadata": {},
   "outputs": [
    {
     "name": "stdout",
     "output_type": "stream",
     "text": [
      "car1 is better than car2\n"
     ]
    }
   ],
   "source": [
    "c1 = Car('BMW', 'Black',110)\n",
    "c2 = Car('Nissan', 'White', 100)\n",
    "c1.compareCar(c2)"
   ]
  },
  {
   "cell_type": "code",
   "execution_count": 32,
   "metadata": {},
   "outputs": [],
   "source": [
    "#problem5\n",
    "\n",
    "class Police_car:\n",
    "    tax_value = 0.2\n",
    "          \n",
    "    def __init__(self, owner, price, pass_code):\n",
    "        self.owner = owner\n",
    "        self.price = price\n",
    "        self.__pass_code = pass_code\n",
    "    def tax(self): \n",
    "        return self.tax_value * self.price\n",
    "   \n",
    "    def greating(self):\n",
    "        if self.__pass_code ==\"admin\":\n",
    "            print(\"Welcome to your car, %s\" %(self.owner))\n",
    "        else:\n",
    "            pass\n",
    "    def set_code(self, new_code):\n",
    "        self.__pass_code = new_code\n",
    "    def get_code(self):\n",
    "        return self.__pass_code"
   ]
  },
  {
   "cell_type": "code",
   "execution_count": 33,
   "metadata": {},
   "outputs": [
    {
     "name": "stdout",
     "output_type": "stream",
     "text": [
      "3000.0\n",
      "Welcome to your car, John Smith\n"
     ]
    }
   ],
   "source": [
    "pcar = Police_car(\"John Smith\", 15000, 'admin')\n",
    "print(Police_car.tax(pcar))\n",
    "Police_car.greating(pcar)"
   ]
  },
  {
   "cell_type": "code",
   "execution_count": 162,
   "metadata": {},
   "outputs": [
    {
     "name": "stdout",
     "output_type": "stream",
     "text": [
      "Croc\n"
     ]
    }
   ],
   "source": [
    "pcar.set_code('Croc')\n",
    "print(pcar._Police_car__pass_code)"
   ]
  },
  {
   "cell_type": "code",
   "execution_count": 163,
   "metadata": {},
   "outputs": [
    {
     "data": {
      "text/plain": [
       "'Croc'"
      ]
     },
     "execution_count": 163,
     "metadata": {},
     "output_type": "execute_result"
    }
   ],
   "source": [
    "pcar.get_code()"
   ]
  },
  {
   "cell_type": "code",
   "execution_count": 68,
   "metadata": {},
   "outputs": [],
   "source": [
    "#problem6\n",
    "\n",
    "class Animal:\n",
    "    def __init__(self, name):\n",
    "        self.name = name\n",
    "    def move(self):\n",
    "        print(\"I can move\")"
   ]
  },
  {
   "cell_type": "code",
   "execution_count": 73,
   "metadata": {},
   "outputs": [],
   "source": [
    "class Dog(Animal):\n",
    "    def __init__(self):\n",
    "        Animal.__init__(self,\"Dog\")"
   ]
  },
  {
   "cell_type": "code",
   "execution_count": 74,
   "metadata": {},
   "outputs": [
    {
     "name": "stdout",
     "output_type": "stream",
     "text": [
      "I can move\n"
     ]
    }
   ],
   "source": [
    "shep = Dog()\n",
    "shep.move()"
   ]
  },
  {
   "cell_type": "code",
   "execution_count": 75,
   "metadata": {},
   "outputs": [],
   "source": [
    "class Dog(Animal):\n",
    "    def __init__(self):\n",
    "        Animal.__init__(self,\"Dog\")\n",
    "    \n",
    "    def move(self):\n",
    "        print(\"I can run really fast\")"
   ]
  },
  {
   "cell_type": "code",
   "execution_count": 76,
   "metadata": {},
   "outputs": [
    {
     "name": "stdout",
     "output_type": "stream",
     "text": [
      "I can run really fast\n"
     ]
    }
   ],
   "source": [
    "shep = Dog()\n",
    "shep.move()"
   ]
  },
  {
   "cell_type": "code",
   "execution_count": 82,
   "metadata": {},
   "outputs": [],
   "source": [
    "#problem7\n",
    "\n",
    "class Animal:\n",
    "    def __init__(self, name, legs):\n",
    "        self.name = name\n",
    "        self.legs = legs\n",
    "    def getName(self):\n",
    "        print(\"My name is %s\" % self.name)\n",
    "    def getLegs(self):\n",
    "        print(\"I have %s legs\" % self.legs)\n",
    "\n",
    "class Exnik(Animal):\n",
    "    def __init__(self):\n",
    "        Animal.__init__(self, \"Exnik\", 4)"
   ]
  },
  {
   "cell_type": "code",
   "execution_count": 83,
   "metadata": {},
   "outputs": [
    {
     "name": "stdout",
     "output_type": "stream",
     "text": [
      "My name is Exnik\n",
      "I have 4 legs\n"
     ]
    }
   ],
   "source": [
    "deer = Exnik()\n",
    "deer.getName()\n",
    "deer.getLegs()"
   ]
  },
  {
   "cell_type": "code",
   "execution_count": 152,
   "metadata": {},
   "outputs": [],
   "source": [
    "#problem8\n",
    "\n",
    "from abc import ABC, abstractmethod\n",
    "\n",
    "class Bird(ABC):\n",
    "    def __init__(self, name, weight):\n",
    "        self.name = name\n",
    "        self.weight = weight\n",
    "        super().__init__()\n",
    "        \n",
    "        \n",
    "        @abstractmethod\n",
    "        def fly(self):\n",
    "            pass\n",
    "    "
   ]
  },
  {
   "cell_type": "code",
   "execution_count": 153,
   "metadata": {},
   "outputs": [],
   "source": [
    "class Hav (Bird):\n",
    "    def fly(self):\n",
    "        print(\"I believe I can fly\")\n",
    "    "
   ]
  },
  {
   "cell_type": "code",
   "execution_count": 154,
   "metadata": {},
   "outputs": [
    {
     "name": "stdout",
     "output_type": "stream",
     "text": [
      "I believe I can fly\n"
     ]
    }
   ],
   "source": [
    "havik = Hav('ss',4)\n",
    "havik.fly()"
   ]
  }
 ],
 "metadata": {
  "kernelspec": {
   "display_name": "Python 3",
   "language": "python",
   "name": "python3"
  },
  "language_info": {
   "codemirror_mode": {
    "name": "ipython",
    "version": 3
   },
   "file_extension": ".py",
   "mimetype": "text/x-python",
   "name": "python",
   "nbconvert_exporter": "python",
   "pygments_lexer": "ipython3",
   "version": "3.7.4"
  }
 },
 "nbformat": 4,
 "nbformat_minor": 2
}
