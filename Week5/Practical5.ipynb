{
 "cells": [
  {
   "cell_type": "markdown",
   "metadata": {},
   "source": [
    "# Functions"
   ]
  },
  {
   "cell_type": "code",
   "execution_count": 1,
   "metadata": {},
   "outputs": [],
   "source": [
    "#problem1\n",
    "\n",
    "def avrg_func(a,b,c):\n",
    "    d = (a+b+c)/3\n",
    "    return d"
   ]
  },
  {
   "cell_type": "code",
   "execution_count": 2,
   "metadata": {},
   "outputs": [
    {
     "data": {
      "text/plain": [
       "3.6666666666666665"
      ]
     },
     "execution_count": 2,
     "metadata": {},
     "output_type": "execute_result"
    }
   ],
   "source": [
    "avrg_func(2,4,5)"
   ]
  },
  {
   "cell_type": "code",
   "execution_count": 3,
   "metadata": {},
   "outputs": [],
   "source": [
    "#problem2\n",
    "\n",
    "def l_func(l:list):\n",
    "    l1=[i for i in l if i%2==0]\n",
    "    print(l1)\n",
    "    return len(l1)"
   ]
  },
  {
   "cell_type": "code",
   "execution_count": 4,
   "metadata": {},
   "outputs": [
    {
     "name": "stdout",
     "output_type": "stream",
     "text": [
      "[22, 4, 68, 74, 56, 6, 4]\n"
     ]
    },
    {
     "data": {
      "text/plain": [
       "7"
      ]
     },
     "execution_count": 4,
     "metadata": {},
     "output_type": "execute_result"
    }
   ],
   "source": [
    "list1 = [22,4,5,68,74,56,9,3,6,5,4]\n",
    "l_func(list1)"
   ]
  },
  {
   "cell_type": "code",
   "execution_count": 14,
   "metadata": {},
   "outputs": [],
   "source": [
    "#problem3\n",
    "\n",
    "import string\n",
    "def pass_func(password):\n",
    "    #isinstance(password, str) \n",
    "    #if isinstance(password, str):\n",
    "    #lalala\n",
    "    num = [x for x in password if x in string.digits]\n",
    "    if (len(password)>9) and len(num)>1:\n",
    "        print('True')\n",
    "    else:\n",
    "        print('False')"
   ]
  },
  {
   "cell_type": "code",
   "execution_count": 5,
   "metadata": {},
   "outputs": [
    {
     "name": "stdout",
     "output_type": "stream",
     "text": [
      "Batman13541546\n",
      "True\n"
     ]
    }
   ],
   "source": [
    "password = input()\n",
    "pass_func(password)"
   ]
  },
  {
   "cell_type": "code",
   "execution_count": 7,
   "metadata": {},
   "outputs": [],
   "source": [
    "#problem4\n",
    "\n",
    "def some_func(name:str, greeting='Welcome to our company!'):\n",
    "    print(name, greeting)"
   ]
  },
  {
   "cell_type": "code",
   "execution_count": 8,
   "metadata": {},
   "outputs": [
    {
     "name": "stdout",
     "output_type": "stream",
     "text": [
      "Karine Welcome to our company!\n"
     ]
    }
   ],
   "source": [
    "some_func('Karine')"
   ]
  },
  {
   "cell_type": "code",
   "execution_count": 6,
   "metadata": {},
   "outputs": [],
   "source": [
    "#problem5\n",
    "\n",
    "def v_func(name, *argv):\n",
    "    avrg=sum(argv)/len(argv)\n",
    "    if len(argv)>0:\n",
    "        print('%s, your average grade is: %d' %(name,avrg))\n",
    "    else:\n",
    "        print('No grades availble for %s' %name)"
   ]
  },
  {
   "cell_type": "code",
   "execution_count": 7,
   "metadata": {},
   "outputs": [
    {
     "name": "stdout",
     "output_type": "stream",
     "text": [
      "Ani, your average grade is: 7\n"
     ]
    }
   ],
   "source": [
    "v_func('Ani',7,8,9,10,6,5,4,12)"
   ]
  },
  {
   "cell_type": "code",
   "execution_count": 10,
   "metadata": {},
   "outputs": [],
   "source": [
    "#problem6\n",
    "\n",
    "def rand_func(user, **kwargs):\n",
    "    if user!='admin':\n",
    "        print(\"access denied to the user\")\n",
    "    else:\n",
    "        for name, value in kwargs.items():\n",
    "            print(name, \":\", value)"
   ]
  },
  {
   "cell_type": "code",
   "execution_count": 12,
   "metadata": {},
   "outputs": [
    {
     "name": "stdout",
     "output_type": "stream",
     "text": [
      "access denied to the user\n"
     ]
    }
   ],
   "source": [
    "rand_func(\"karik\", a1 = 1, a2 = 2, a3 = 4, a5 = 5)"
   ]
  },
  {
   "cell_type": "code",
   "execution_count": 15,
   "metadata": {},
   "outputs": [
    {
     "name": "stdout",
     "output_type": "stream",
     "text": [
      "Result: 4\n",
      "The result of the operation is 64\n"
     ]
    }
   ],
   "source": [
    "run calc.py"
   ]
  }
 ],
 "metadata": {
  "kernelspec": {
   "display_name": "Python 3",
   "language": "python",
   "name": "python3"
  },
  "language_info": {
   "codemirror_mode": {
    "name": "ipython",
    "version": 3
   },
   "file_extension": ".py",
   "mimetype": "text/x-python",
   "name": "python",
   "nbconvert_exporter": "python",
   "pygments_lexer": "ipython3",
   "version": "3.7.4"
  }
 },
 "nbformat": 4,
 "nbformat_minor": 2
}
