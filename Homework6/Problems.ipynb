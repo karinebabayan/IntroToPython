{
 "cells": [
  {
   "cell_type": "code",
   "execution_count": 2,
   "metadata": {},
   "outputs": [],
   "source": [
    "#problem1\n",
    "\n",
    "class Person:\n",
    "    def __init__(self, name, last_name, age, gender, student, password):\n",
    "        self.name = name\n",
    "        self.last_name = last_name\n",
    "        self.age = age\n",
    "        self.gender = gender\n",
    "        self.student = student \n",
    "        self.__password = password\n",
    "    \n",
    "    def __bool__(self):\n",
    "        if self.student==\"student\":\n",
    "            return True\n",
    "        else:\n",
    "            return False\n",
    "    \n",
    "    \n",
    "    def set_code(self,new_password):\n",
    "        self.__password = new_password\n",
    "    def get_code(self):\n",
    "        return self.__password\n",
    "    \n",
    "    def Greeting(self, second_person):\n",
    "        print('Welcome dear %s'%second_person.name)\n",
    "    \n",
    "    def Goodbye(self):\n",
    "        print('Bye everyone!')\n",
    "    \n",
    "    def Favourite_num(self, num1):\n",
    "        print('My favourite number is %s'%num1)\n",
    "        \n",
    "    def Read_file(self, filename:str):\n",
    "        self.filename = open(filename+\".txt\",\"r\")\n",
    "        print(self.filename.read())"
   ]
  },
  {
   "cell_type": "code",
   "execution_count": 5,
   "metadata": {},
   "outputs": [
    {
     "name": "stdout",
     "output_type": "stream",
     "text": [
      "Welcome dear Kim\n",
      "Bye everyone!\n",
      "My favourite number is 11\n",
      "\"Hello World!\"\n",
      "\"\"\"\n",
      "Some decisions are made automatically by models. Amazon doesn't have humans (or elves) scurry to decide what to show you whenever you go to their website. But many important decisions are made by humans. For these decisions, insights can be more valuable than predictions.\n",
      "\"\"\"\n",
      "True\n",
      "False\n"
     ]
    }
   ],
   "source": [
    "person1 = Person(\"Anne\",\"Brown\",25, \"Female\", \"student\", \"Flower5\")\n",
    "person2 = Person(\"Kim\",\"Green\",24,\"Female\", \"worker\",\"AS124\")\n",
    "person1.Greeting(person2)\n",
    "person1.Goodbye()\n",
    "person1.Favourite_num(11)\n",
    "person1.Read_file(\"hello\")\n",
    "person2.Read_file(\"Article\")\n",
    "print(bool(person1))\n",
    "print(bool(person2))"
   ]
  },
  {
   "cell_type": "code",
   "execution_count": 3,
   "metadata": {},
   "outputs": [
    {
     "name": "stdout",
     "output_type": "stream",
     "text": [
      "Flower5\n",
      "Flower5\n"
     ]
    }
   ],
   "source": [
    "print(person1._Person__password)\n",
    "print(person1.get_code())"
   ]
  },
  {
   "cell_type": "code",
   "execution_count": 4,
   "metadata": {},
   "outputs": [
    {
     "name": "stdout",
     "output_type": "stream",
     "text": [
      "Sunflower\n"
     ]
    }
   ],
   "source": [
    "person1.set_code(\"Sunflower\")\n",
    "print(person1._Person__password)"
   ]
  },
  {
   "cell_type": "code",
   "execution_count": 7,
   "metadata": {},
   "outputs": [],
   "source": [
    "#problem2\n",
    "\n",
    "class Calculation:\n",
    "    def __init__(self,x,y):\n",
    "        self.x = x\n",
    "        self.y = y\n",
    "    \n",
    "    def addition(self):\n",
    "        print(self.x+self.y)\n",
    "    \n",
    "    def subtraction(self):\n",
    "        print(self.x-self.y)\n"
   ]
  },
  {
   "cell_type": "code",
   "execution_count": 8,
   "metadata": {},
   "outputs": [],
   "source": [
    "class MyCalculation(Calculation):\n",
    "    def __init__(self,x,y):\n",
    "        Calculation.__init__(self,x,y)\n",
    "    \n",
    "    def multiplication(self):\n",
    "        print(self.x*self.y)\n",
    "    \n",
    "    def division(self):\n",
    "        print(self.x/self.y)"
   ]
  },
  {
   "cell_type": "code",
   "execution_count": 9,
   "metadata": {},
   "outputs": [
    {
     "name": "stdout",
     "output_type": "stream",
     "text": [
      "8\n",
      "-2\n",
      "15\n",
      "0.6\n"
     ]
    }
   ],
   "source": [
    "numbs = MyCalculation(3,5)\n",
    "numbs.addition()\n",
    "numbs.subtraction()\n",
    "numbs.multiplication()\n",
    "numbs.division()"
   ]
  },
  {
   "cell_type": "code",
   "execution_count": 10,
   "metadata": {},
   "outputs": [],
   "source": [
    "#problem3\n",
    "\n",
    "class My_Time:\n",
    "    def  __init__(self, t:str):\n",
    "        self.t = t\n",
    "    def printTime(self):\n",
    "        print(\"The current time is %s\"%self.t)\n",
    "\n",
    "class My_Date:\n",
    "    def __init__(self, d:str):\n",
    "        self.d = d\n",
    "        \n",
    "    def printDate(self):\n",
    "        print(\"The current date is %s\"%self.d)\n",
    "    \n",
    "class Date_Time(My_Time, My_Date):\n",
    "    def __init__(self,t,d):\n",
    "        My_Time.__init__(self,t)\n",
    "        My_Date.__init__(self,d)"
   ]
  },
  {
   "cell_type": "code",
   "execution_count": 11,
   "metadata": {},
   "outputs": [
    {
     "name": "stdout",
     "output_type": "stream",
     "text": [
      "The current date is 13.03.2013\n",
      "The current time is 12 PM\n"
     ]
    }
   ],
   "source": [
    "time_ex = Date_Time(\"12 PM\",\"13.03.2013\")\n",
    "time_ex.printDate()\n",
    "time_ex.printTime()"
   ]
  },
  {
   "cell_type": "code",
   "execution_count": 12,
   "metadata": {},
   "outputs": [],
   "source": [
    "#problem4\n",
    "\n",
    "class Model:\n",
    "    def  __init__(self, model):\n",
    "        self.model = model\n",
    "        \n",
    "    def printModel(self):\n",
    "        print(\"The model of the vehicle is %s\"%self.model)\n",
    "        \n",
    "class Color:\n",
    "    def __init__(self, color):\n",
    "        self.color = color\n",
    "    def printColor(self):\n",
    "        print(\"The color of the vehicle is %s\"%self.color)\n",
    "            \n",
    "class Car(Model,Color):\n",
    "    def  __init__(self, model, color):\n",
    "        Model.__init__(self,model)\n",
    "        Color.__init__(self,color)"
   ]
  },
  {
   "cell_type": "code",
   "execution_count": 13,
   "metadata": {},
   "outputs": [
    {
     "name": "stdout",
     "output_type": "stream",
     "text": [
      "The model of the vehicle is BMW\n",
      "The color of the vehicle is red\n"
     ]
    }
   ],
   "source": [
    "car = Car(\"BMW\", \"red\")\n",
    "car.printModel()\n",
    "car.printColor()"
   ]
  }
 ],
 "metadata": {
  "kernelspec": {
   "display_name": "Python 3",
   "language": "python",
   "name": "python3"
  },
  "language_info": {
   "codemirror_mode": {
    "name": "ipython",
    "version": 3
   },
   "file_extension": ".py",
   "mimetype": "text/x-python",
   "name": "python",
   "nbconvert_exporter": "python",
   "pygments_lexer": "ipython3",
   "version": "3.7.4"
  }
 },
 "nbformat": 4,
 "nbformat_minor": 2
}
