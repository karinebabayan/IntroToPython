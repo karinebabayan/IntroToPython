{
 "cells": [
  {
   "cell_type": "markdown",
   "metadata": {},
   "source": [
    "# Lists"
   ]
  },
  {
   "cell_type": "code",
   "execution_count": null,
   "metadata": {},
   "outputs": [],
   "source": [
    "#problem1\n",
    "list1 =  ['hello', 1, True] \n",
    "list1.append(input('Values: '))\n",
    "print('list1', list1)"
   ]
  },
  {
   "cell_type": "code",
   "execution_count": null,
   "metadata": {},
   "outputs": [],
   "source": [
    "#problem2\n",
    "list1 =  ['hello', 1, True] \n",
    "list_new = list1.copy()\n",
    "list_new.append(input('Values: '))\n",
    "print(list1)\n",
    "print(list_new)"
   ]
  },
  {
   "cell_type": "code",
   "execution_count": null,
   "metadata": {},
   "outputs": [],
   "source": [
    "#problem3\n",
    "list2 = [1, 6, 4, 4, 5, 7, 9, 11, 2]\n",
    "value = int(input('Value: '))\n",
    "list2.append(value)\n",
    "print('list2: ',list2)\n",
    "print ('Number of 2s: ', list2.count(value))"
   ]
  },
  {
   "cell_type": "code",
   "execution_count": null,
   "metadata": {},
   "outputs": [],
   "source": [
    "#problem4\n",
    "list4 = [1, 3, 4, 5, 'hello', 10, 'a', 3]\n",
    "value = int(input('Value: '))\n",
    "print('list4 before: ', list4)\n",
    "list4.remove(value) \n",
    "print('list4 after: ', list4)"
   ]
  },
  {
   "cell_type": "code",
   "execution_count": null,
   "metadata": {},
   "outputs": [],
   "source": [
    "#problem5\n",
    "list5 = [1, 2, 3, 4, 5, 6, 7, 8, 9]\n",
    "print('List before del:', list5)\n",
    "del list5[5]\n",
    "del list5[4]\n",
    "del list5[0]\n",
    "print('List after del:', list5)"
   ]
  },
  {
   "cell_type": "code",
   "execution_count": null,
   "metadata": {},
   "outputs": [],
   "source": [
    "#problem6\n",
    "list5 = [1, 2, 3, 4, 5, 6, 7, 8, 9]\n",
    "print('List before del:', list5)\n",
    "new_list5 = list5.copy()\n",
    "del new_list5[5]\n",
    "del new_list5[4]\n",
    "del new_list5[0]\n",
    "print('List after del:', list5)\n",
    "print('List after del:', new_list5)"
   ]
  },
  {
   "cell_type": "code",
   "execution_count": null,
   "metadata": {},
   "outputs": [],
   "source": [
    "#problem7\n",
    "l1 = ['a', 3, 'c', 5, 'hello', 10, 'me', 7]\n",
    "l2 = [1, 'b', 4, 'd', 2, 10, 'a', 8]\n",
    "print('l1 old: ',l1)\n",
    "l1[-1]=l2\n",
    "print('ls new: ',l1)"
   ]
  },
  {
   "cell_type": "markdown",
   "metadata": {},
   "source": [
    "# Sets"
   ]
  },
  {
   "cell_type": "code",
   "execution_count": null,
   "metadata": {},
   "outputs": [],
   "source": [
    "#problem8\n",
    "set1 =  {1,'a',4,'buy',7,'WE',7, True, 7}\n",
    "set1.add(input('value:'))\n",
    "print(set1)"
   ]
  },
  {
   "cell_type": "code",
   "execution_count": null,
   "metadata": {},
   "outputs": [],
   "source": [
    "#problem9\n",
    "set2 = {1,'vintage',4587,'movie',7852,7, 'action', 789}\n",
    "print(set2)\n",
    "a= int(input())\n",
    "set2.remove(a)\n",
    "print(set2)"
   ]
  },
  {
   "cell_type": "code",
   "execution_count": null,
   "metadata": {},
   "outputs": [],
   "source": [
    "#problem10\n",
    "set2 = {1,'vintage',4587,'movie',7852,7, 'action', 789}\n",
    "print(set2)\n",
    "a= int(input())\n",
    "set2.discard(a)\n",
    "print(set2)"
   ]
  },
  {
   "cell_type": "code",
   "execution_count": null,
   "metadata": {},
   "outputs": [],
   "source": [
    "#problem11\n",
    "set1 = {1,'vintage',4587,'movie',7852,7, 'action', 789}\n",
    "set2 = {78,123, 65265,4587, 789, 'movie', 712, 1, 'clock'}\n",
    "print(set1.union(set2))\n",
    "print(set1.intersection(set2))"
   ]
  },
  {
   "cell_type": "code",
   "execution_count": null,
   "metadata": {},
   "outputs": [],
   "source": [
    "#problem12\n",
    "set3 = {1,2,4,2,2,5,6,7,5,56}\n",
    "a = int(input('Number: '))\n",
    "if a>=min(set3) and a<=max(set3):\n",
    "    print( ':)')\n",
    "else:\n",
    "    print (':(')"
   ]
  },
  {
   "cell_type": "code",
   "execution_count": null,
   "metadata": {},
   "outputs": [],
   "source": [
    "#problem13\n",
    "\n",
    "t1 = ('k','n','oce',1, 2,4,2,2,5,6,7,5,56)\n",
    "print(t1)\n",
    "print(t1[4],t1[-4])"
   ]
  },
  {
   "cell_type": "code",
   "execution_count": null,
   "metadata": {},
   "outputs": [],
   "source": [
    "#problem14\n",
    "t2 = ('afaf',2548, 'clone',54,'a',36358,'bee',True,45, 5841,'str')\n",
    "print(t2)\n",
    "new_t2= list(t2)\n",
    "new_t2[4] = 'hello'\n",
    "t2 = tuple(new_t2)\n",
    "print(t2)"
   ]
  },
  {
   "cell_type": "markdown",
   "metadata": {},
   "source": [
    "# Dictionaries"
   ]
  },
  {
   "cell_type": "code",
   "execution_count": null,
   "metadata": {},
   "outputs": [],
   "source": [
    "#problem15\n",
    "dict1 = {'key1':'coke','key2':'fanta'}\n",
    "print(dict1)\n",
    "key= input('Key: ')\n",
    "value = input('Value: ')\n",
    "dict1[key]=value\n",
    "print(dict1)"
   ]
  },
  {
   "cell_type": "code",
   "execution_count": null,
   "metadata": {},
   "outputs": [],
   "source": [
    "#problem16\n",
    "l1 =  [(1, 'a'), (2,'b'), (3, 'c')]\n",
    "d1 = dict(l1)\n",
    "print(d1)"
   ]
  }
 ],
 "metadata": {
  "kernelspec": {
   "display_name": "Python 3",
   "language": "python",
   "name": "python3"
  },
  "language_info": {
   "codemirror_mode": {
    "name": "ipython",
    "version": 3
   },
   "file_extension": ".py",
   "mimetype": "text/x-python",
   "name": "python",
   "nbconvert_exporter": "python",
   "pygments_lexer": "ipython3",
   "version": "3.7.4"
  }
 },
 "nbformat": 4,
 "nbformat_minor": 2
}
