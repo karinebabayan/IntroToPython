{
 "cells": [
  {
   "cell_type": "markdown",
   "metadata": {},
   "source": [
    "## Conditionals"
   ]
  },
  {
   "cell_type": "code",
   "execution_count": 4,
   "metadata": {},
   "outputs": [
    {
     "name": "stdout",
     "output_type": "stream",
     "text": [
      "Number1: 5\n",
      "Number2: 4\n",
      "The number 5 is the greatest.\n"
     ]
    }
   ],
   "source": [
    "#problem1\n",
    "\n",
    "n1 = int(input('Number1: '))\n",
    "n2 = int(input('Number2: '))\n",
    "if n1>n2:\n",
    "    print('The number',n1,'is the greatest.')\n",
    "else:\n",
    "    print('The number',n2,'is the greatest.')"
   ]
  },
  {
   "cell_type": "code",
   "execution_count": 4,
   "metadata": {},
   "outputs": [
    {
     "name": "stdout",
     "output_type": "stream",
     "text": [
      "A: 12\n",
      "B: 5\n",
      "Rectangle\n"
     ]
    }
   ],
   "source": [
    "#problem2\n",
    "\n",
    "a = int(input('A: '))\n",
    "b = int(input('B: '))\n",
    "\n",
    "if a!=b:\n",
    "    print('Rectangle')\n",
    "else:\n",
    "    print('Square')\n",
    "\n"
   ]
  },
  {
   "cell_type": "code",
   "execution_count": 18,
   "metadata": {},
   "outputs": [],
   "source": [
    "#problem3\n",
    "\n",
    "name = 'Karine'\n",
    "age = 16\n",
    "password = 'Te&*a'\n",
    "if name == \"Batman\":\n",
    "    print(\"Welcome Mr. Batman!\")\n",
    "    \n",
    "else:\n",
    "    \n",
    "    if age<16:\n",
    "        print(\"Dear %s, you are too young to register\" % name)\n",
    "\n",
    "    if (\"*\" not in password) and (\"&\" not in password):\n",
    "        print(\"Please enter a different password\")"
   ]
  },
  {
   "cell_type": "code",
   "execution_count": 8,
   "metadata": {
    "scrolled": true
   },
   "outputs": [
    {
     "name": "stdout",
     "output_type": "stream",
     "text": [
      "Number: 45\n",
      "{'name': 'Armen', 'age': 15, 'grades': [10, 8, 8, 4, 6, 7], 'weight': 45}\n"
     ]
    }
   ],
   "source": [
    "#problem4\n",
    "\n",
    "d = {'name': 'Armen', 'age': 15,'grades': [10, 8, 8, 4, 6, 7]}\n",
    "if 'weight' not in d.keys():\n",
    "    n=int(input('Number: '))\n",
    "    d['weight']=n\n",
    "    print(d)\n",
    "else:\n",
    "    print(d['weight'])"
   ]
  },
  {
   "cell_type": "markdown",
   "metadata": {},
   "source": [
    "## Loops"
   ]
  },
  {
   "cell_type": "code",
   "execution_count": 19,
   "metadata": {},
   "outputs": [
    {
     "name": "stdout",
     "output_type": "stream",
     "text": [
      "1\n",
      "3\n",
      "5\n",
      "7\n",
      "9\n",
      "11\n",
      "13\n",
      "15\n",
      "17\n",
      "19\n",
      "21\n",
      "23\n",
      "25\n",
      "27\n",
      "29\n",
      "31\n",
      "33\n",
      "35\n",
      "37\n",
      "39\n",
      "41\n",
      "43\n",
      "45\n",
      "47\n",
      "49\n",
      "51\n",
      "53\n",
      "55\n",
      "57\n",
      "59\n",
      "61\n",
      "63\n",
      "65\n",
      "67\n",
      "69\n",
      "71\n",
      "73\n",
      "75\n",
      "77\n",
      "79\n",
      "81\n",
      "83\n",
      "85\n",
      "87\n",
      "89\n",
      "91\n",
      "93\n",
      "95\n",
      "97\n",
      "99\n"
     ]
    }
   ],
   "source": [
    "#problem5\n",
    "\"\"\"\n",
    "numbers = range(100)\n",
    "odds = [x for x in numbers if x%2==1]\n",
    "print(numbers , odds) \n",
    "\"\"\"\n",
    "\"\"\"\n",
    "for i in range(1, 101):\n",
    "    if i%2==0:\n",
    "        continue\n",
    "    print(i)\n",
    "\"\"\"\n",
    "\n",
    "for i in range(1, 101):\n",
    "    if i%2==1:\n",
    "        print(i)\n"
   ]
  },
  {
   "cell_type": "code",
   "execution_count": 10,
   "metadata": {},
   "outputs": [
    {
     "name": "stdout",
     "output_type": "stream",
     "text": [
      "num =  1\n",
      "num =  3\n",
      "num =  5\n",
      "num =  6\n"
     ]
    }
   ],
   "source": [
    "#problem6\n",
    "\n",
    "num = 0\n",
    "while num<6:\n",
    "    num+=1\n",
    "    if num == 2:\n",
    "        continue\n",
    "    if num == 4:\n",
    "        continue\n",
    "    print('num = ', num)"
   ]
  },
  {
   "cell_type": "code",
   "execution_count": 11,
   "metadata": {},
   "outputs": [
    {
     "name": "stdout",
     "output_type": "stream",
     "text": [
      "n=  1\n",
      "n=  2\n"
     ]
    }
   ],
   "source": [
    "#problem7\n",
    "\n",
    "n=1\n",
    "\n",
    "while n<20:\n",
    "    print('n= ', n)\n",
    "    n+=1\n",
    "    if n%3==0 or n%5==0:\n",
    "        break      "
   ]
  },
  {
   "cell_type": "code",
   "execution_count": 24,
   "metadata": {},
   "outputs": [
    {
     "name": "stdout",
     "output_type": "stream",
     "text": [
      "5\n",
      "7\n",
      "-7\n",
      "abc\n",
      "2\n",
      "4\n",
      "True\n"
     ]
    }
   ],
   "source": [
    "#problem8\n",
    "\n",
    "list1 =  [5, 7, -7, 'abc', 2, 4, True, 3, 4, 6, 7, 7]\n",
    "'''\n",
    "for x in range(len(list1)):\n",
    "    print(list1)\n",
    "    if list1[x]==3:\n",
    "        print(list1)\n",
    "        break\n",
    "'''\n",
    "for i in  list1:\n",
    "    if i==3:\n",
    "        #print(i)\n",
    "        break\n",
    "    print(i)"
   ]
  },
  {
   "cell_type": "code",
   "execution_count": 13,
   "metadata": {},
   "outputs": [
    {
     "name": "stdout",
     "output_type": "stream",
     "text": [
      "Number: 4\n",
      "Number: 6\n",
      "Number: 1\n",
      "Number: 5\n",
      "That was a good guess!\n"
     ]
    }
   ],
   "source": [
    "#problem9\n",
    "\n",
    "correct_num = 5\n",
    "\n",
    "for x in range(1,11):\n",
    "    guess = int(input('Number: '))\n",
    "    if guess == correct_num:\n",
    "        print('That was a good guess!')\n",
    "        break\n",
    "        "
   ]
  },
  {
   "cell_type": "markdown",
   "metadata": {},
   "source": [
    "## List comprehension"
   ]
  },
  {
   "cell_type": "code",
   "execution_count": 14,
   "metadata": {},
   "outputs": [
    {
     "name": "stdout",
     "output_type": "stream",
     "text": [
      "[7, 25, 27]\n"
     ]
    }
   ],
   "source": [
    "#problem10\n",
    "\n",
    "num = [7,8, 120, 25, 44, 20, 27]\n",
    "odds = [x for x in num if x%2==1]\n",
    "print(odds)"
   ]
  },
  {
   "cell_type": "code",
   "execution_count": 15,
   "metadata": {},
   "outputs": [
    {
     "name": "stdout",
     "output_type": "stream",
     "text": [
      "[1, 4, 9, 16, 25, 36, 49, 64, 81, 100, 121, 144, 169, 196, 225, 256, 289, 324, 361, 400, 441, 484, 529, 576, 625, 676, 729, 784, 841, 900, 961, 1024, 1089, 1156, 1225, 1296, 1369, 1444, 1521, 1600, 1681, 1764, 1849, 1936, 2025, 2116, 2209, 2304, 2401]\n"
     ]
    }
   ],
   "source": [
    "#problem11\n",
    "\n",
    "list3 = [x**2 for x in range(1,50)]\n",
    "print(list3)"
   ]
  },
  {
   "cell_type": "code",
   "execution_count": 16,
   "metadata": {},
   "outputs": [
    {
     "name": "stdout",
     "output_type": "stream",
     "text": [
      "[1, 5, 87, 26, 15, 36, 45, 12, 36, 98] [87, 26, 36, 45, 36, 98]\n"
     ]
    }
   ],
   "source": [
    "#problem12\n",
    "\n",
    "list1 = [1,5,87,26,15,36,45,12,36,98]\n",
    "list2=[x for x in list1 if x>20]\n",
    "print(list1,list2)"
   ]
  },
  {
   "cell_type": "code",
   "execution_count": 17,
   "metadata": {},
   "outputs": [
    {
     "name": "stdout",
     "output_type": "stream",
     "text": [
      "World\n",
      "['W', 'o', 'r', 'l', 'd']\n"
     ]
    }
   ],
   "source": [
    "#problem13\n",
    "\n",
    "str1 = input()\n",
    "l1 = [x for x in str1]\n",
    "print(l1)"
   ]
  },
  {
   "cell_type": "code",
   "execution_count": 18,
   "metadata": {},
   "outputs": [
    {
     "name": "stdout",
     "output_type": "stream",
     "text": [
      "['aba', '1221']\n"
     ]
    }
   ],
   "source": [
    "#problem14\n",
    "\n",
    "list1 = ['a', 'abc', 'xyz', 's', 'aba','1221']\n",
    "list2 = [x for x in list1 if len(x)>2 and x[0]==x[-1]]\n",
    "print(list2)"
   ]
  }
 ],
 "metadata": {
  "kernelspec": {
   "display_name": "Python 3",
   "language": "python",
   "name": "python3"
  },
  "language_info": {
   "codemirror_mode": {
    "name": "ipython",
    "version": 3
   },
   "file_extension": ".py",
   "mimetype": "text/x-python",
   "name": "python",
   "nbconvert_exporter": "python",
   "pygments_lexer": "ipython3",
   "version": "3.7.4"
  }
 },
 "nbformat": 4,
 "nbformat_minor": 2
}
