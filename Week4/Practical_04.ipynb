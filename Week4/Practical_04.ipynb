{
 "cells": [
  {
   "cell_type": "markdown",
   "metadata": {},
   "source": [
    "## Conditionals"
   ]
  },
  {
   "cell_type": "code",
   "execution_count": 4,
   "metadata": {},
   "outputs": [
    {
     "name": "stdout",
     "output_type": "stream",
     "text": [
      "Number1: 5\n",
      "Number2: 4\n",
      "The number 5 is the greatest.\n"
     ]
    }
   ],
   "source": [
    "#problem1\n",
    "\n",
    "n1 = int(input('Number1: '))\n",
    "n2 = int(input('Number2: '))\n",
    "if n1>n2:\n",
    "    print('The number',n1,'is the greatest.')\n",
    "else:\n",
    "    print('The number',n2,'is the greatest.')"
   ]
  },
  {
   "cell_type": "code",
   "execution_count": 5,
   "metadata": {},
   "outputs": [
    {
     "name": "stdout",
     "output_type": "stream",
     "text": [
      "A: 5\n",
      "B: 4\n",
      "Rectangle\n"
     ]
    }
   ],
   "source": [
    "#problem2\n",
    "\n",
    "a = int(input('A: '))\n",
    "b = int(input('B: '))\n",
    "\n",
    "if a!=b:\n",
    "    print('Rectangle')\n",
    "else:\n",
    "    print('Square')\n",
    "\n"
   ]
  },
  {
   "cell_type": "code",
   "execution_count": 6,
   "metadata": {},
   "outputs": [
    {
     "name": "stdout",
     "output_type": "stream",
     "text": [
      "Please enter a different password\n"
     ]
    }
   ],
   "source": [
    "#problem3\n",
    "\n",
    "name = 'Karine'\n",
    "age = 25\n",
    "password = 'Tea&'\n",
    "if name == 'Batman':\n",
    "    print('Welcome Mr.Batman!')\n",
    "else:\n",
    "    if age < 16:\n",
    "        print('Dear',name,'you are too young to register')\n",
    "    if ('*' not in password) or ('&' not in password):\n",
    "        print('Please enter a different password')"
   ]
  },
  {
   "cell_type": "code",
   "execution_count": 8,
   "metadata": {
    "scrolled": true
   },
   "outputs": [
    {
     "name": "stdout",
     "output_type": "stream",
     "text": [
      "Number: 45\n",
      "{'name': 'Armen', 'age': 15, 'grades': [10, 8, 8, 4, 6, 7], 'weight': 45}\n"
     ]
    }
   ],
   "source": [
    "#problem4\n",
    "\n",
    "d = {'name': 'Armen', 'age': 15,'grades': [10, 8, 8, 4, 6, 7]}\n",
    "if 'weight' not in d.keys():\n",
    "    n=int(input('Number: '))\n",
    "    d['weight']=n\n",
    "    print(d)\n",
    "else:\n",
    "    print(d['weight'])"
   ]
  },
  {
   "cell_type": "markdown",
   "metadata": {},
   "source": [
    "## Loops"
   ]
  },
  {
   "cell_type": "code",
   "execution_count": 9,
   "metadata": {},
   "outputs": [
    {
     "name": "stdout",
     "output_type": "stream",
     "text": [
      "range(0, 100) [1, 3, 5, 7, 9, 11, 13, 15, 17, 19, 21, 23, 25, 27, 29, 31, 33, 35, 37, 39, 41, 43, 45, 47, 49, 51, 53, 55, 57, 59, 61, 63, 65, 67, 69, 71, 73, 75, 77, 79, 81, 83, 85, 87, 89, 91, 93, 95, 97, 99]\n"
     ]
    }
   ],
   "source": [
    "#problem5\n",
    "\n",
    "numbers = range(100)\n",
    "odds = [x for x in numbers if x%2==1]\n",
    "print(numbers , odds)"
   ]
  },
  {
   "cell_type": "code",
   "execution_count": 10,
   "metadata": {},
   "outputs": [
    {
     "name": "stdout",
     "output_type": "stream",
     "text": [
      "num =  1\n",
      "num =  3\n",
      "num =  5\n",
      "num =  6\n"
     ]
    }
   ],
   "source": [
    "#problem6\n",
    "\n",
    "num = 0\n",
    "while num<6:\n",
    "    num+=1\n",
    "    if num == 2:\n",
    "        continue\n",
    "    if num == 4:\n",
    "        continue\n",
    "    print('num = ', num)"
   ]
  },
  {
   "cell_type": "code",
   "execution_count": 11,
   "metadata": {},
   "outputs": [
    {
     "name": "stdout",
     "output_type": "stream",
     "text": [
      "n=  1\n",
      "n=  2\n"
     ]
    }
   ],
   "source": [
    "#problem7\n",
    "\n",
    "n=1\n",
    "\n",
    "while n<20:\n",
    "    print('n= ', n)\n",
    "    n+=1\n",
    "    if n%3==0 or n%5==0:\n",
    "        break      "
   ]
  },
  {
   "cell_type": "code",
   "execution_count": 12,
   "metadata": {},
   "outputs": [
    {
     "name": "stdout",
     "output_type": "stream",
     "text": [
      "[5, 7, -7, 'abc', 2, 4, True, 3, 4, 6, 7, 7]\n",
      "[5, 7, -7, 'abc', 2, 4, True, 3, 4, 6, 7, 7]\n",
      "[5, 7, -7, 'abc', 2, 4, True, 3, 4, 6, 7, 7]\n",
      "[5, 7, -7, 'abc', 2, 4, True, 3, 4, 6, 7, 7]\n",
      "[5, 7, -7, 'abc', 2, 4, True, 3, 4, 6, 7, 7]\n",
      "[5, 7, -7, 'abc', 2, 4, True, 3, 4, 6, 7, 7]\n",
      "[5, 7, -7, 'abc', 2, 4, True, 3, 4, 6, 7, 7]\n",
      "[5, 7, -7, 'abc', 2, 4, True, 3, 4, 6, 7, 7]\n",
      "[5, 7, -7, 'abc', 2, 4, True, 3, 4, 6, 7, 7]\n"
     ]
    }
   ],
   "source": [
    "#problem8\n",
    "\n",
    "list1 =  [5, 7, -7, 'abc', 2, 4, True, 3, 4, 6, 7, 7]\n",
    "for x in range(len(list1)):\n",
    "    print(list1)\n",
    "    if list1[x]==3:\n",
    "        print(list1)\n",
    "        break"
   ]
  },
  {
   "cell_type": "code",
   "execution_count": 13,
   "metadata": {},
   "outputs": [
    {
     "name": "stdout",
     "output_type": "stream",
     "text": [
      "Number: 4\n",
      "Number: 6\n",
      "Number: 1\n",
      "Number: 5\n",
      "That was a good guess!\n"
     ]
    }
   ],
   "source": [
    "#problem9\n",
    "\n",
    "correct_num = 5\n",
    "\n",
    "for x in range(1,11):\n",
    "    guess = int(input('Number: '))\n",
    "    if guess == correct_num:\n",
    "        print('That was a good guess!')\n",
    "        break\n",
    "        "
   ]
  },
  {
   "cell_type": "markdown",
   "metadata": {},
   "source": [
    "## List comprehension"
   ]
  },
  {
   "cell_type": "code",
   "execution_count": 14,
   "metadata": {},
   "outputs": [
    {
     "name": "stdout",
     "output_type": "stream",
     "text": [
      "[7, 25, 27]\n"
     ]
    }
   ],
   "source": [
    "#problem10\n",
    "\n",
    "num = [7,8, 120, 25, 44, 20, 27]\n",
    "odds = [x for x in num if x%2==1]\n",
    "print(odds)"
   ]
  },
  {
   "cell_type": "code",
   "execution_count": 15,
   "metadata": {},
   "outputs": [
    {
     "name": "stdout",
     "output_type": "stream",
     "text": [
      "[1, 4, 9, 16, 25, 36, 49, 64, 81, 100, 121, 144, 169, 196, 225, 256, 289, 324, 361, 400, 441, 484, 529, 576, 625, 676, 729, 784, 841, 900, 961, 1024, 1089, 1156, 1225, 1296, 1369, 1444, 1521, 1600, 1681, 1764, 1849, 1936, 2025, 2116, 2209, 2304, 2401]\n"
     ]
    }
   ],
   "source": [
    "#problem11\n",
    "\n",
    "list3 = [x**2 for x in range(1,50)]\n",
    "print(list3)"
   ]
  },
  {
   "cell_type": "code",
   "execution_count": 16,
   "metadata": {},
   "outputs": [
    {
     "name": "stdout",
     "output_type": "stream",
     "text": [
      "[1, 5, 87, 26, 15, 36, 45, 12, 36, 98] [87, 26, 36, 45, 36, 98]\n"
     ]
    }
   ],
   "source": [
    "#problem12\n",
    "\n",
    "list1 = [1,5,87,26,15,36,45,12,36,98]\n",
    "list2=[x for x in list1 if x>20]\n",
    "print(list1,list2)"
   ]
  },
  {
   "cell_type": "code",
   "execution_count": 17,
   "metadata": {},
   "outputs": [
    {
     "name": "stdout",
     "output_type": "stream",
     "text": [
      "World\n",
      "['W', 'o', 'r', 'l', 'd']\n"
     ]
    }
   ],
   "source": [
    "#problem13\n",
    "\n",
    "str1 = input()\n",
    "l1 = [x for x in str1]\n",
    "print(l1)"
   ]
  },
  {
   "cell_type": "code",
   "execution_count": 18,
   "metadata": {},
   "outputs": [
    {
     "name": "stdout",
     "output_type": "stream",
     "text": [
      "['aba', '1221']\n"
     ]
    }
   ],
   "source": [
    "#problem14\n",
    "\n",
    "list1 = ['a', 'abc', 'xyz', 's', 'aba','1221']\n",
    "list2 = [x for x in list1 if len(x)>2 and x[0]==x[-1]]\n",
    "print(list2)"
   ]
  }
 ],
 "metadata": {
  "kernelspec": {
   "display_name": "Python 3",
   "language": "python",
   "name": "python3"
  },
  "language_info": {
   "codemirror_mode": {
    "name": "ipython",
    "version": 3
   },
   "file_extension": ".py",
   "mimetype": "text/x-python",
   "name": "python",
   "nbconvert_exporter": "python",
   "pygments_lexer": "ipython3",
   "version": "3.7.4"
  }
 },
 "nbformat": 4,
 "nbformat_minor": 2
}
